{
  "cells": [
    {
      "cell_type": "markdown",
      "metadata": {
        "id": "view-in-github",
        "colab_type": "text"
      },
      "source": [
        "<a href=\"https://colab.research.google.com/github/parisazeynaly/explainable-toxic-comment-detection/blob/main/Toxic_Comment_Classification.ipynb\" target=\"_parent\"><img src=\"https://colab.research.google.com/assets/colab-badge.svg\" alt=\"Open In Colab\"/></a>"
      ]
    },
    {
      "cell_type": "code",
      "execution_count": null,
      "metadata": {
        "id": "25XLNTaxfZ_Q"
      },
      "outputs": [],
      "source": [
        "import pandas as pd\n",
        "\n",
        "# from google.colab import drive\n",
        "# drive.mount('/content/drive')\n"
      ]
    },
    {
      "cell_type": "code",
      "execution_count": null,
      "metadata": {
        "id": "xAx2Vsndgzsv"
      },
      "outputs": [],
      "source": [
        "test= pd.read_csv(\"test.csv\")\n",
        "train= pd.read_csv(\"train.csv\")"
      ]
    },
    {
      "cell_type": "code",
      "execution_count": null,
      "metadata": {
        "id": "zlykHRDthC38"
      },
      "outputs": [],
      "source": [
        "print(\"Train shape:\", train.shape)\n",
        "print(\"Test shape:\", test.shape)\n"
      ]
    },
    {
      "cell_type": "code",
      "execution_count": null,
      "metadata": {
        "id": "6b473BsuhSbn"
      },
      "outputs": [],
      "source": [
        "import matplotlib.pyplot as plt\n",
        "import seaborn as sns\n",
        "import pandas as pd\n",
        "\n",
        "# 1. نمایش اولیه\n",
        "display(train.head())\n",
        "display(test.head())\n",
        "\n",
        "print(\"Train Info:\")\n",
        "train.info()\n",
        "print(\"\\nTest Info:\")\n",
        "test.info()\n",
        "\n",
        "# 2. خلاصه آماری\n",
        "print(\"\\nTrain Describe:\")\n",
        "display(train.describe())\n",
        "\n",
        "# 3. مقادیر گمشده\n",
        "print(\"\\nMissing values in train:\\n\", train.isnull().sum())\n",
        "print(\"\\nMissing values in test:\\n\", test.isnull().sum())\n",
        "\n",
        "# 4. توزیع تارگت\n",
        "if \"toxic\" in train.columns:\n",
        "    plt.figure(figsize=(6,4))\n",
        "    sns.countplot(x=\"toxic\", data=train)\n",
        "    plt.title(\"Target Distribution (toxic vs non-toxic)\")\n",
        "    plt.show()\n",
        "\n",
        "# 5. توزیع فیچرهای عددی\n",
        "numeric_cols = train.select_dtypes(include=['int64','float64']).columns\n",
        "train[numeric_cols].hist(figsize=(12,8), bins=30)\n",
        "plt.suptitle(\"Numeric Features Distribution\")\n",
        "plt.show()\n"
      ]
    },
    {
      "cell_type": "code",
      "execution_count": null,
      "metadata": {
        "id": "j2ftwggKpEzi"
      },
      "outputs": [],
      "source": [
        "import pandas as pd\n",
        "\n",
        "# --- حذف مقادیر گمشده ---\n",
        "print(\"Before dropna:\", train.shape)\n",
        "train = train.dropna(subset=[\"comment_text\"])\n",
        "print(\"After dropna:\", train.shape)\n",
        "\n",
        "print(\"Before dropna test:\", test.shape)\n",
        "test = test.dropna(subset=[\"comment_text\"])\n",
        "print(\"After dropna test:\", test.shape)\n",
        "\n",
        "# --- حذف ردیف‌های تکراری ---\n",
        "print(\"Before drop_duplicates:\", train.shape)\n",
        "train = train.drop_duplicates(subset=[\"comment_text\"])\n",
        "print(\"After drop_duplicates:\", train.shape)\n",
        "\n",
        "# --- پاک‌سازی اولیه متن ---\n",
        "def basic_clean(text):\n",
        "    if isinstance(text, str):\n",
        "        return text.strip().replace(\"\\n\", \" \")\n",
        "    return text\n",
        "\n",
        "train[\"comment_text\"] = train[\"comment_text\"].apply(basic_clean)\n",
        "test[\"comment_text\"] = test[\"comment_text\"].apply(basic_clean)\n",
        "\n",
        "# بررسی نتیجه\n",
        "display(train.head())\n"
      ]
    },
    {
      "cell_type": "code",
      "execution_count": null,
      "metadata": {
        "id": "cWNdkXtWqAkq"
      },
      "outputs": [],
      "source": [
        "# اگر نصب نیست:\n",
        "!pip install iterative-stratification -q\n",
        "\n",
        "import pandas as pd\n",
        "import numpy as np\n",
        "from iterstrat.ml_stratifiers import MultilabelStratifiedShuffleSplit\n",
        "\n",
        "# فرض: train_df را قبلاً لود و پاک‌سازی حداقلی کرده‌ای\n",
        "# ستون‌های برچسب:\n",
        "label_cols = [\"toxic\",\"severe_toxic\",\"obscene\",\"threat\",\"insult\",\"identity_hate\"]\n",
        "\n",
        "# فقط ردیف‌هایی که دست‌کم یکی از برچسب‌ها مشخص است (0/1) و متن خالی نیست\n",
        "df = train.dropna(subset=[\"comment_text\"]).reset_index(drop=True)\n",
        "# اطمینان از نوع عددی برچسب‌ها\n",
        "df[label_cols] = df[label_cols].astype(int)\n",
        "\n",
        "X = df.index.values.reshape(-1, 1)   # ایندکس‌ها را به‌عنوان شناسه نگه می‌داریم\n",
        "y = df[label_cols].values\n",
        "\n",
        "# --- مرحله 1: train_temp (90%) + holdout (10%)\n",
        "msss1 = MultilabelStratifiedShuffleSplit(n_splits=1, test_size=0.10, random_state=42)\n",
        "train_temp_idx, holdout_idx = next(msss1.split(X, y))\n",
        "\n",
        "df_train_temp = df.iloc[train_temp_idx].reset_index(drop=True)\n",
        "df_holdout    = df.iloc[holdout_idx].reset_index(drop=True)\n",
        "\n",
        "# --- مرحله 2: از train_temp، train (80%) و val (10%) بسازیم => val = 10/90 ≈ 11.11% از train_temp\n",
        "X_temp = df_train_temp.index.values.reshape(-1, 1)\n",
        "y_temp = df_train_temp[label_cols].values\n",
        "\n",
        "msss2 = MultilabelStratifiedShuffleSplit(n_splits=1, test_size=0.1111, random_state=43)\n",
        "train_idx, val_idx = next(msss2.split(X_temp, y_temp))\n",
        "\n",
        "df_train = df_train_temp.iloc[train_idx].reset_index(drop=True)\n",
        "df_val   = df_train_temp.iloc[val_idx].reset_index(drop=True)\n",
        "\n",
        "print(\"Final splits:\")\n",
        "print(\"train:\", df_train.shape, \"val:\", df_val.shape, \"holdout:\", df_holdout.shape)\n"
      ]
    },
    {
      "cell_type": "code",
      "execution_count": null,
      "metadata": {
        "id": "ITSDM-RSqKNd"
      },
      "outputs": [],
      "source": [
        "def label_prevalence(frame, label_cols):\n",
        "    return (frame[label_cols].mean().round(4) * 100).astype(str) + \"%\"\n",
        "\n",
        "print(\"All data:\\n\", label_prevalence(df, label_cols))\n",
        "print(\"\\nTrain:\\n\", label_prevalence(df_train, label_cols))\n",
        "print(\"\\nVal:\\n\", label_prevalence(df_val, label_cols))\n",
        "print(\"\\nHoldout:\\n\", label_prevalence(df_holdout, label_cols))\n"
      ]
    },
    {
      "cell_type": "code",
      "execution_count": null,
      "metadata": {
        "id": "_rySre-4qQMz"
      },
      "outputs": [],
      "source": [
        "out_dir = \"/content/drive/MyDrive/ToxicComments/splits\"  # مسیر دلخواهت\n",
        "import os; os.makedirs(out_dir, exist_ok=True)\n",
        "\n",
        "df_train.to_csv(f\"{out_dir}/train_split.csv\", index=False)\n",
        "df_val.to_csv(f\"{out_dir}/val_split.csv\", index=False)\n",
        "df_holdout.to_csv(f\"{out_dir}/holdout_split.csv\", index=False)\n"
      ]
    },
    {
      "cell_type": "code",
      "execution_count": null,
      "metadata": {
        "id": "208KVecUq1hV"
      },
      "outputs": [],
      "source": [
        "!pip install transformers -q\n",
        "\n",
        "import torch\n",
        "from torch.utils.data import Dataset, DataLoader\n",
        "from transformers import BertTokenizer\n"
      ]
    },
    {
      "cell_type": "code",
      "execution_count": null,
      "metadata": {
        "id": "1tvzw7LWq_nF"
      },
      "outputs": [],
      "source": [
        "tokenizer = BertTokenizer.from_pretrained(\"bert-base-uncased\")\n",
        "MAX_LEN = 128   # می‌تونی بعداً 256 یا 512 هم تست کنی\n"
      ]
    },
    {
      "cell_type": "code",
      "execution_count": null,
      "metadata": {
        "id": "9YfL5ofVrDw3"
      },
      "outputs": [],
      "source": [
        "class ToxicCommentsDataset(Dataset):\n",
        "    def __init__(self, df, tokenizer, max_len, label_cols):\n",
        "        self.texts = df[\"comment_text\"].tolist()\n",
        "        self.labels = df[label_cols].values\n",
        "        self.tokenizer = tokenizer\n",
        "        self.max_len = max_len\n",
        "\n",
        "    def __len__(self):\n",
        "        return len(self.texts)\n",
        "\n",
        "    def __getitem__(self, idx):\n",
        "        text = str(self.texts[idx])\n",
        "        labels = torch.tensor(self.labels[idx], dtype=torch.float)\n",
        "\n",
        "        encoding = self.tokenizer(\n",
        "            text,\n",
        "            padding=\"max_length\",\n",
        "            truncation=True,\n",
        "            max_length=self.max_len,\n",
        "            return_tensors=\"pt\"\n",
        "        )\n",
        "\n",
        "        return {\n",
        "            \"input_ids\": encoding[\"input_ids\"].flatten(),\n",
        "            \"attention_mask\": encoding[\"attention_mask\"].flatten(),\n",
        "            \"labels\": labels\n",
        "        }\n"
      ]
    },
    {
      "cell_type": "code",
      "execution_count": null,
      "metadata": {
        "id": "cOY58ij8rEvE"
      },
      "outputs": [],
      "source": [
        "BATCH_SIZE = 32\n",
        "label_cols = [\"toxic\",\"severe_toxic\",\"obscene\",\"threat\",\"insult\",\"identity_hate\"]\n",
        "\n",
        "train_dataset = ToxicCommentsDataset(df_train, tokenizer, MAX_LEN, label_cols)\n",
        "val_dataset   = ToxicCommentsDataset(df_val, tokenizer, MAX_LEN, label_cols)\n",
        "\n",
        "train_loader = DataLoader(train_dataset, batch_size=BATCH_SIZE, shuffle=True)\n",
        "val_loader   = DataLoader(val_dataset, batch_size=BATCH_SIZE)\n"
      ]
    },
    {
      "cell_type": "code",
      "execution_count": null,
      "metadata": {
        "id": "jECnFhPErWgX"
      },
      "outputs": [],
      "source": [
        "batch = next(iter(train_loader))\n",
        "print(batch[\"input_ids\"].shape)      # [32, 128]\n",
        "print(batch[\"attention_mask\"].shape) # [32, 128]\n",
        "print(batch[\"labels\"].shape)         # [32, 6]\n"
      ]
    },
    {
      "cell_type": "code",
      "execution_count": null,
      "metadata": {
        "id": "yvaH2T4Wwo6p"
      },
      "outputs": [],
      "source": [
        "from transformers import AutoModelForSequenceClassification\n",
        "\n",
        "# مدل رو لود می‌کنیم\n",
        "model = AutoModelForSequenceClassification.from_pretrained(\n",
        "    \"bert-base-uncased\",   # میشه roberta-base یا distilbert هم امتحان کنی\n",
        "    num_labels=6,          # چون 6 برچسب داریم\n",
        "    problem_type=\"multi_label_classification\"\n",
        ")\n"
      ]
    },
    {
      "cell_type": "code",
      "execution_count": null,
      "metadata": {
        "id": "pBdBIXv9w4Ez"
      },
      "outputs": [],
      "source": [
        "import torch.nn as nn\n",
        "\n",
        "loss_fn = nn.BCEWithLogitsLoss()\n"
      ]
    },
    {
      "cell_type": "code",
      "execution_count": null,
      "metadata": {
        "id": "69SgS3xfw9jL"
      },
      "outputs": [],
      "source": [
        "from transformers import get_linear_schedule_with_warmup\n",
        "from torch.optim import AdamW\n",
        "\n",
        "optimizer = AdamW(model.parameters(), lr=2e-5)\n",
        "\n",
        "# تعداد کل استپ‌ها\n",
        "total_steps = len(train_loader) * 3   # مثلاً 3 epoch\n",
        "\n",
        "# Scheduler\n",
        "scheduler = get_linear_schedule_with_warmup(\n",
        "    optimizer,\n",
        "    num_warmup_steps=0,\n",
        "    num_training_steps=total_steps\n",
        ")"
      ]
    },
    {
      "cell_type": "code",
      "execution_count": null,
      "metadata": {
        "id": "73279d2f"
      },
      "outputs": [],
      "source": [
        "import time\n",
        "from tqdm.notebook import tqdm\n",
        "\n",
        "device = torch.device(\"cuda\" if torch.cuda.is_available() else \"cpu\")\n",
        "model.to(device)\n",
        "\n",
        "EPOCHS = 3\n",
        "\n",
        "for epoch in range(EPOCHS):\n",
        "    print(f\"Epoch {epoch + 1}/{EPOCHS}\")\n",
        "    print(\"-\" * 10)\n",
        "\n",
        "    model.train()\n",
        "    train_loss = 0\n",
        "    start_time = time.time()\n",
        "\n",
        "    for batch in tqdm(train_loader, desc=f\"Training Epoch {epoch+1}\"):\n",
        "        input_ids = batch[\"input_ids\"].to(device)\n",
        "        attention_mask = batch[\"attention_mask\"].to(device)\n",
        "        labels = batch[\"labels\"].to(device)\n",
        "\n",
        "        optimizer.zero_grad()\n",
        "\n",
        "        outputs = model(input_ids, attention_mask=attention_mask, labels=labels)\n",
        "        loss = outputs.loss\n",
        "        train_loss += loss.item()\n",
        "\n",
        "        loss.backward()\n",
        "        optimizer.step()\n",
        "        scheduler.step()\n",
        "\n",
        "    avg_train_loss = train_loss / len(train_loader)\n",
        "    end_time = time.time()\n",
        "    print(f\"Train loss: {avg_train_loss:.4f}\")\n",
        "    print(f\"Epoch {epoch+1} training time: {(end_time - start_time):.2f} seconds\")\n",
        "\n",
        "    # --- Validation ---\n",
        "    model.eval()\n",
        "    val_loss = 0\n",
        "    start_time = time.time()\n",
        "\n",
        "    with torch.no_grad():\n",
        "        for batch in tqdm(val_loader, desc=f\"Validation Epoch {epoch+1}\"):\n",
        "            input_ids = batch[\"input_ids\"].to(device)\n",
        "            attention_mask = batch[\"attention_mask\"].to(device)\n",
        "            labels = batch[\"labels\"].to(device)\n",
        "\n",
        "            outputs = model(input_ids, attention_mask=attention_mask, labels=labels)\n",
        "            loss = outputs.loss\n",
        "            val_loss += loss.item()\n",
        "\n",
        "    avg_val_loss = val_loss / len(val_loader)\n",
        "    end_time = time.time()\n",
        "    print(f\"Validation loss: {avg_val_loss:.4f}\")\n",
        "    print(f\"Epoch {epoch+1} validation time: {(end_time - start_time):.2f} seconds\")\n",
        "\n",
        "print(\"\\nTraining complete!\")"
      ]
    }
  ],
  "metadata": {
    "colab": {
      "provenance": [],
      "authorship_tag": "ABX9TyOK3UU6ymQ7ijRSY4qo/4QW",
      "include_colab_link": true
    },
    "kernelspec": {
      "display_name": "Python 3",
      "name": "python3"
    },
    "language_info": {
      "name": "python"
    }
  },
  "nbformat": 4,
  "nbformat_minor": 0
}